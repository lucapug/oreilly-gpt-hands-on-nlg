{
 "cells": [
  {
   "cell_type": "markdown",
   "id": "de5138c6",
   "metadata": {},
   "source": [
    "## Teaching GPT multiple tasks at once with prompt engineering"
   ]
  },
  {
   "cell_type": "code",
   "execution_count": 1,
   "id": "c74f0e7d",
   "metadata": {},
   "outputs": [
    {
     "name": "stderr",
     "output_type": "stream",
     "text": [
      "/home/lucapug/.local/share/virtualenvs/oreilly-gpt-hands-on-nlg-eLFJLio5/lib/python3.9/site-packages/tqdm/auto.py:21: TqdmWarning: IProgress not found. Please update jupyter and ipywidgets. See https://ipywidgets.readthedocs.io/en/stable/user_install.html\n",
      "  from .autonotebook import tqdm as notebook_tqdm\n"
     ]
    }
   ],
   "source": [
    "from transformers import Trainer, TrainingArguments, DataCollatorForLanguageModeling, GPT2LMHeadModel, pipeline, \\\n",
    "                         GPT2Tokenizer\n",
    "import pandas as pd\n",
    "from datasets import Dataset"
   ]
  },
  {
   "cell_type": "code",
   "execution_count": null,
   "id": "7463affd",
   "metadata": {},
   "outputs": [],
   "source": []
  },
  {
   "cell_type": "code",
   "execution_count": 2,
   "id": "06be4764",
   "metadata": {},
   "outputs": [
    {
     "name": "stdout",
     "output_type": "stream",
     "text": [
      "(96512, 3)\n"
     ]
    },
    {
     "data": {
      "text/html": [
       "<div>\n",
       "<style scoped>\n",
       "    .dataframe tbody tr th:only-of-type {\n",
       "        vertical-align: middle;\n",
       "    }\n",
       "\n",
       "    .dataframe tbody tr th {\n",
       "        vertical-align: top;\n",
       "    }\n",
       "\n",
       "    .dataframe thead th {\n",
       "        text-align: right;\n",
       "    }\n",
       "</style>\n",
       "<table border=\"1\" class=\"dataframe\">\n",
       "  <thead>\n",
       "    <tr style=\"text-align: right;\">\n",
       "      <th></th>\n",
       "      <th>Text</th>\n",
       "      <th>Summary</th>\n",
       "      <th>Score</th>\n",
       "    </tr>\n",
       "  </thead>\n",
       "  <tbody>\n",
       "    <tr>\n",
       "      <th>0</th>\n",
       "      <td>Great taffy at a great price.  There was a wid...</td>\n",
       "      <td>Great taffy</td>\n",
       "      <td>5</td>\n",
       "    </tr>\n",
       "    <tr>\n",
       "      <th>1</th>\n",
       "      <td>This taffy is so good.  It is very soft and ch...</td>\n",
       "      <td>Wonderful, tasty taffy</td>\n",
       "      <td>5</td>\n",
       "    </tr>\n",
       "    <tr>\n",
       "      <th>2</th>\n",
       "      <td>Right now I'm mostly just sprouting this so my...</td>\n",
       "      <td>Yay Barley</td>\n",
       "      <td>5</td>\n",
       "    </tr>\n",
       "    <tr>\n",
       "      <th>3</th>\n",
       "      <td>This is a very healthy dog food. Good for thei...</td>\n",
       "      <td>Healthy Dog Food</td>\n",
       "      <td>5</td>\n",
       "    </tr>\n",
       "    <tr>\n",
       "      <th>4</th>\n",
       "      <td>good flavor! these came securely packed... the...</td>\n",
       "      <td>fresh and greasy!</td>\n",
       "      <td>4</td>\n",
       "    </tr>\n",
       "  </tbody>\n",
       "</table>\n",
       "</div>"
      ],
      "text/plain": [
       "                                                Text                 Summary  \\\n",
       "0  Great taffy at a great price.  There was a wid...             Great taffy   \n",
       "1  This taffy is so good.  It is very soft and ch...  Wonderful, tasty taffy   \n",
       "2  Right now I'm mostly just sprouting this so my...              Yay Barley   \n",
       "3  This is a very healthy dog food. Good for thei...        Healthy Dog Food   \n",
       "4  good flavor! these came securely packed... the...       fresh and greasy!   \n",
       "\n",
       "   Score  \n",
       "0      5  \n",
       "1      5  \n",
       "2      5  \n",
       "3      5  \n",
       "4      4  "
      ]
     },
     "execution_count": 2,
     "metadata": {},
     "output_type": "execute_result"
    }
   ],
   "source": [
    "# https://www.kaggle.com/snap/amazon-fine-food-reviews?select=Reviews.csv\n",
    "\n",
    "reviews = pd.read_csv('../data/reviews.csv')\n",
    "\n",
    "print(reviews.shape)\n",
    "\n",
    "reviews.head()"
   ]
  },
  {
   "cell_type": "code",
   "execution_count": 3,
   "id": "9c02af40",
   "metadata": {},
   "outputs": [
    {
     "data": {
      "text/plain": [
       "<Axes: title={'center': 'Histogram of Review Length'}, ylabel='Frequency'>"
      ]
     },
     "execution_count": 3,
     "metadata": {},
     "output_type": "execute_result"
    },
    {
     "data": {
      "image/png": "[encoded data removed]",
      "text/plain": [
       "<Figure size 640x480 with 1 Axes>"
      ]
     },
     "metadata": {},
     "output_type": "display_data"
    }
   ],
   "source": [
    "reviews['Text'].str.len().plot(kind='hist', title='Histogram of Review Length')"
   ]
  },
  {
   "cell_type": "code",
   "execution_count": 4,
   "id": "7d355929",
   "metadata": {},
   "outputs": [
    {
     "data": {
      "text/plain": [
       "<Axes: title={'center': 'Histogram of Summary Length'}, ylabel='Frequency'>"
      ]
     },
     "execution_count": 4,
     "metadata": {},
     "output_type": "execute_result"
    },
    {
     "data": {
      "image/png": "[encoded data removed]",
      "text/plain": [
       "<Figure size 640x480 with 1 Axes>"
      ]
     },
     "metadata": {},
     "output_type": "display_data"
    }
   ],
   "source": [
    "reviews['Summary'].str.len().plot(kind='hist', title='Histogram of Summary Length')"
   ]
  },
  {
   "cell_type": "code",
   "execution_count": 5,
   "id": "e068184e",
   "metadata": {},
   "outputs": [
    {
     "data": {
      "text/plain": [
       "<Axes: title={'center': 'Histogram of Summary Length'}, ylabel='Frequency'>"
      ]
     },
     "execution_count": 5,
     "metadata": {},
     "output_type": "execute_result"
    },
    {
     "data": {
      "image/png": "[encoded data removed]",
      "text/plain": [
       "<Figure size 640x480 with 1 Axes>"
      ]
     },
     "metadata": {},
     "output_type": "display_data"
    }
   ],
   "source": [
    "# remove very short and very long summaries\n",
    "reviews = reviews[(reviews['Summary'].str.len() < 50)]\n",
    "\n",
    "reviews['Summary'].str.len().plot(kind='hist', title='Histogram of Summary Length')"
   ]
  },
  {
   "cell_type": "code",
   "execution_count": 6,
   "id": "7a998511",
   "metadata": {},
   "outputs": [
    {
     "data": {
      "text/plain": [
       "<Axes: >"
      ]
     },
     "execution_count": 6,
     "metadata": {},
     "output_type": "execute_result"
    },
    {
     "data": {
      "image/png": "[encoded data removed]",
      "text/plain": [
       "<Figure size 640x480 with 1 Axes>"
      ]
     },
     "metadata": {},
     "output_type": "display_data"
    }
   ],
   "source": [
    "reviews['Score'].hist()"
   ]
  },
  {
   "cell_type": "code",
   "execution_count": 7,
   "id": "683c807d",
   "metadata": {},
   "outputs": [
    {
     "data": {
      "text/plain": [
       "<Axes: >"
      ]
     },
     "execution_count": 7,
     "metadata": {},
     "output_type": "execute_result"
    },
    {
     "data": {
      "image/png": "[encoded data removed]",
      "text/plain": [
       "<Figure size 640x480 with 1 Axes>"
      ]
     },
     "metadata": {},
     "output_type": "display_data"
    }
   ],
   "source": [
    "reviews['Sentiment'] = reviews['Score'].map(lambda x: 'positive' if x >= 4 else 'neutral' if x == 3 else 'negative')\n",
    "\n",
    "reviews['Sentiment'].hist()\n"
   ]
  },
  {
   "cell_type": "code",
   "execution_count": 8,
   "id": "b3bd1649",
   "metadata": {},
   "outputs": [
    {
     "data": {
      "text/plain": [
       "(15003, 4)"
      ]
     },
     "execution_count": 8,
     "metadata": {},
     "output_type": "execute_result"
    }
   ],
   "source": [
    "# to obtain some target balancing we only select a sample of 5000 both for positive and negative\n",
    "reviews = pd.concat(\n",
    "    [\n",
    "        reviews[reviews['Sentiment'] == 'positive'].sample(5000),\n",
    "        reviews[reviews['Sentiment'] == 'negative'].sample(5000),\n",
    "        reviews[reviews['Sentiment'] == 'neutral']\n",
    "    ]\n",
    ")\n",
    "\n",
    "reviews.shape"
   ]
  },
  {
   "cell_type": "code",
   "execution_count": null,
   "id": "0c3c1095",
   "metadata": {},
   "outputs": [],
   "source": []
  },
  {
   "cell_type": "code",
   "execution_count": 9,
   "id": "afe1936d",
   "metadata": {},
   "outputs": [
    {
     "data": {
      "text/plain": [
       "<Axes: >"
      ]
     },
     "execution_count": 9,
     "metadata": {},
     "output_type": "execute_result"
    },
    {
     "data": {
      "image/png": "[encoded data removed]",
      "text/plain": [
       "<Figure size 640x480 with 1 Axes>"
      ]
     },
     "metadata": {},
     "output_type": "display_data"
    }
   ],
   "source": [
    "reviews['Sentiment'].hist()"
   ]
  },
  {
   "cell_type": "code",
   "execution_count": null,
   "id": "1e489d4c",
   "metadata": {},
   "outputs": [],
   "source": []
  },
  {
   "cell_type": "code",
   "execution_count": null,
   "id": "efb0ea6a",
   "metadata": {},
   "outputs": [],
   "source": []
  },
  {
   "cell_type": "code",
   "execution_count": 10,
   "id": "4ecc72e1",
   "metadata": {
    "scrolled": true
   },
   "outputs": [],
   "source": [
    "MODEL = 'distilgpt2'\n",
    "\n",
    "tokenizer = GPT2Tokenizer.from_pretrained(MODEL)\n",
    "\n",
    "tokenizer.pad_token = tokenizer.eos_token\n",
    "\n",
    "#add two prompts, one for each task\n",
    "SENTIMENT_PROMPT = 'Sentiment Task'\n",
    "SUMMARIZE_PROMPT = 'Summarize Task'\n",
    "SENTIMENT_TOKEN = '\\nSentiment:'\n",
    "SUMMARIZE_TOKEN = '\\nSummarize:'\n"
   ]
  },
  {
   "cell_type": "code",
   "execution_count": 11,
   "id": "690adf98",
   "metadata": {},
   "outputs": [],
   "source": [
    "reviews['sentiment_text'] = f'{SENTIMENT_PROMPT}\\nReview: ' + reviews['Text'] + SENTIMENT_TOKEN +  ' ' + reviews['Sentiment'].astype(str)\n",
    "\n",
    "reviews['summarize_text'] = f'{SUMMARIZE_PROMPT}\\nReview: ' + reviews['Text'] + SUMMARIZE_TOKEN +  ' ' + reviews['Summary'].astype(str)\n"
   ]
  },
  {
   "cell_type": "code",
   "execution_count": 12,
   "id": "d23b7afd",
   "metadata": {},
   "outputs": [
    {
     "data": {
      "text/plain": [
       "['Sentiment Task\\nReview: If you love cinnimon, this is your tea.  The flavor is is out of this world.\\nSentiment: positive',\n",
       " \"Sentiment Task\\nReview: I like a strong cup of coffee. I really like this coffee. I've done a lot of checking and this is the best price by far.\\nSentiment: positive\"]"
      ]
     },
     "execution_count": 12,
     "metadata": {},
     "output_type": "execute_result"
    }
   ],
   "source": [
    "reviews['sentiment_text'].head(2).tolist()"
   ]
  },
  {
   "cell_type": "code",
   "execution_count": 13,
   "id": "cdee58b9",
   "metadata": {},
   "outputs": [
    {
     "name": "stdout",
     "output_type": "stream",
     "text": [
      "Sentiment Task\n",
      "Review: I just made this for lunch. It had almost no flavor, although it smelled heavenly for the first few minutes of cooking.\n",
      "Sentiment: negative\n"
     ]
    }
   ],
   "source": [
    "print('Sentiment Task\\nReview: I just made this for lunch. It had almost no flavor, although it smelled heavenly for the first few minutes of cooking.\\nSentiment: negative')"
   ]
  },
  {
   "cell_type": "code",
   "execution_count": 14,
   "id": "d804737d",
   "metadata": {},
   "outputs": [
    {
     "data": {
      "text/plain": [
       "[\"Summarize Task\\nReview: If you love cinnimon, this is your tea.  The flavor is is out of this world.\\nSummarize: World's best tea!\",\n",
       " \"Summarize Task\\nReview: I like a strong cup of coffee. I really like this coffee. I've done a lot of checking and this is the best price by far.\\nSummarize: Green Mountain Dark Magic Coffee\"]"
      ]
     },
     "execution_count": 14,
     "metadata": {},
     "output_type": "execute_result"
    }
   ],
   "source": [
    "reviews['summarize_text'].head(2).tolist()"
   ]
  },
  {
   "cell_type": "code",
   "execution_count": 15,
   "id": "0b7fe460",
   "metadata": {},
   "outputs": [
    {
     "name": "stdout",
     "output_type": "stream",
     "text": [
      "Summarize Task\n",
      "Review: I just made this for lunch. It had almost no flavor, although it smelled heavenly for the first few minutes of cooking.\n",
      "Summarize: Not bad, but bland\n"
     ]
    }
   ],
   "source": [
    "print('Summarize Task\\nReview: I just made this for lunch. It had almost no flavor, although it smelled heavenly for the first few minutes of cooking.\\nSummarize: Not bad, but bland')"
   ]
  },
  {
   "cell_type": "code",
   "execution_count": null,
   "id": "aa096cc5",
   "metadata": {},
   "outputs": [],
   "source": []
  },
  {
   "cell_type": "markdown",
   "id": "dc5ea7b2",
   "metadata": {},
   "source": [
    "Our intent is to obtain multitask learning (sentiment and summarize) by means of two separete prompts. That's why we also duplicate the training samples here below from 15000 to 30000 (half for sentiment task the other half for summarize task)"
   ]
  },
  {
   "cell_type": "code",
   "execution_count": 17,
   "id": "657237e0",
   "metadata": {},
   "outputs": [
    {
     "name": "stdout",
     "output_type": "stream",
     "text": [
      "30006\n"
     ]
    }
   ],
   "source": [
    "reviews = reviews.sample(frac=1)\n",
    "\n",
    "training_examples = reviews['summarize_text'].tolist() + reviews['sentiment_text'].tolist()\n",
    "\n",
    "print(len(training_examples))"
   ]
  },
  {
   "cell_type": "code",
   "execution_count": 18,
   "id": "34df23c0",
   "metadata": {},
   "outputs": [
    {
     "name": "stderr",
     "output_type": "stream",
     "text": [
      "Map: 100%|██████████| 30006/30006 [00:07<00:00, 3925.25 examples/s]\n"
     ]
    }
   ],
   "source": [
    "multi_task_df = pd.DataFrame({'text': training_examples})\n",
    "\n",
    "data = Dataset.from_pandas(multi_task_df)\n",
    "\n",
    "def preprocess(examples):\n",
    "    return tokenizer(examples['text'], truncation=True)\n",
    "\n",
    "data = data.map(preprocess, batched=True)\n",
    "\n",
    "data = data.train_test_split(train_size=.9)"
   ]
  },
  {
   "cell_type": "code",
   "execution_count": null,
   "id": "8dac23a1",
   "metadata": {},
   "outputs": [],
   "source": []
  },
  {
   "cell_type": "code",
   "execution_count": 19,
   "id": "11f10eaa",
   "metadata": {},
   "outputs": [
    {
     "name": "stdout",
     "output_type": "stream",
     "text": [
      "<|endoftext|>Summarize Task\n",
      "Review: If you eat Kosher or Halal this is a bad buy! I think the ingredients should be put in the description!\n",
      "Summarize: Gelatin<|endoftext|>\n"
     ]
    }
   ],
   "source": [
    "# NOTE it is common to manually add BOS (beginning of sentence) and EOS (end of sentence) tokens manually\n",
    "#  to stop the model from predicting past where you want it to. I am explicitly not doing that to show you what\n",
    "#  what GPT would do without those tokens. If you plan to use something like this in production, I would\n",
    "#  recommend adding in those tokens manually like so:\n",
    "\n",
    "print(multi_task_df['text'].map(lambda x: f'{tokenizer.bos_token}{x}{tokenizer.eos_token}')[0])\n",
    "\n",
    "# you may also want to make a different start, pad and eos token so that they aren't all the default <endoftext> token\n",
    "#  if you do, you may need to resize your model's tokenizer embedding\n",
    "\n",
    "#another notice made during the webinar is that in more recents LLMs model, they automatically define\n",
    "#BOS and EOS tokens for you"
   ]
  },
  {
   "cell_type": "code",
   "execution_count": null,
   "id": "024f7e4d",
   "metadata": {},
   "outputs": [],
   "source": []
  },
  {
   "cell_type": "code",
   "execution_count": 19,
   "id": "1c356604",
   "metadata": {
    "scrolled": true
   },
   "outputs": [
    {
     "name": "stderr",
     "output_type": "stream",
     "text": [
      "Downloading model.safetensors: 100%|██████████| 353M/353M [00:38<00:00, 9.12MB/s] \n",
      "Downloading (…)neration_config.json: 100%|██████████| 124/124 [00:00<00:00, 68.7kB/s]\n"
     ]
    }
   ],
   "source": [
    "model = GPT2LMHeadModel.from_pretrained(MODEL)"
   ]
  },
  {
   "cell_type": "code",
   "execution_count": 20,
   "id": "365f7b31",
   "metadata": {},
   "outputs": [],
   "source": [
    "data_collator = DataCollatorForLanguageModeling(tokenizer=tokenizer, mlm=False)"
   ]
  },
  {
   "cell_type": "code",
   "execution_count": null,
   "id": "6fb033e7",
   "metadata": {},
   "outputs": [],
   "source": []
  },
  {
   "cell_type": "code",
   "execution_count": 21,
   "id": "9b8b5abb",
   "metadata": {},
   "outputs": [
    {
     "data": {
      "text/html": [
       "\n",
       "    <div>\n",
       "      \n",
       "      <progress value='188' max='94' style='width:300px; height:20px; vertical-align: middle;'></progress>\n",
       "      [94/94 2:44:30]\n",
       "    </div>\n",
       "    "
      ],
      "text/plain": [
       "<IPython.core.display.HTML object>"
      ]
     },
     "metadata": {},
     "output_type": "display_data"
    },
    {
     "data": {
      "text/plain": [
       "{'eval_loss': 5.016368865966797,\n",
       " 'eval_runtime': 75.6952,\n",
       " 'eval_samples_per_second': 39.646,\n",
       " 'eval_steps_per_second': 1.242}"
      ]
     },
     "execution_count": 21,
     "metadata": {},
     "output_type": "execute_result"
    }
   ],
   "source": [
    "training_args = TrainingArguments(\n",
    "    output_dir=\"./gpt2_multitask\", #The output directory\n",
    "    overwrite_output_dir=True, #overwrite the content of the output directory\n",
    "    num_train_epochs=3, # number of training epochs\n",
    "    per_device_train_batch_size=32, # batch size for training\n",
    "    per_device_eval_batch_size=32,  # batch size for evaluation\n",
    "    logging_steps=50,\n",
    "    learning_rate=.001,\n",
    "    load_best_model_at_end=True,\n",
    "    evaluation_strategy='epoch',\n",
    "    save_strategy='epoch'\n",
    ")\n",
    "\n",
    "trainer = Trainer(\n",
    "    model=model,\n",
    "    args=training_args,\n",
    "    train_dataset=data['train'],\n",
    "    eval_dataset=data['test'],\n",
    "    data_collator=data_collator\n",
    ")\n",
    "\n",
    "trainer.evaluate()"
   ]
  },
  {
   "cell_type": "code",
   "execution_count": 22,
   "id": "0e34721f",
   "metadata": {
    "scrolled": true
   },
   "outputs": [
    {
     "data": {
      "text/html": [
       "\n",
       "    <div>\n",
       "      \n",
       "      <progress value='2532' max='2532' style='width:300px; height:20px; vertical-align: middle;'></progress>\n",
       "      [2532/2532 8:20:49, Epoch 3/3]\n",
       "    </div>\n",
       "    <table border=\"1\" class=\"dataframe\">\n",
       "  <thead>\n",
       " <tr style=\"text-align: left;\">\n",
       "      <th>Epoch</th>\n",
       "      <th>Training Loss</th>\n",
       "      <th>Validation Loss</th>\n",
       "    </tr>\n",
       "  </thead>\n",
       "  <tbody>\n",
       "    <tr>\n",
       "      <td>1</td>\n",
       "      <td>2.267600</td>\n",
       "      <td>2.074116</td>\n",
       "    </tr>\n",
       "    <tr>\n",
       "      <td>2</td>\n",
       "      <td>1.548800</td>\n",
       "      <td>1.602538</td>\n",
       "    </tr>\n",
       "    <tr>\n",
       "      <td>3</td>\n",
       "      <td>1.020900</td>\n",
       "      <td>1.382360</td>\n",
       "    </tr>\n",
       "  </tbody>\n",
       "</table><p>"
      ],
      "text/plain": [
       "<IPython.core.display.HTML object>"
      ]
     },
     "metadata": {},
     "output_type": "display_data"
    },
    {
     "data": {
      "text/plain": [
       "TrainOutput(global_step=2532, training_loss=1.790365359229499, metrics={'train_runtime': 30052.3637, 'train_samples_per_second': 2.696, 'train_steps_per_second': 0.084, 'total_flos': 1182084044488704.0, 'train_loss': 1.790365359229499, 'epoch': 3.0})"
      ]
     },
     "execution_count": 22,
     "metadata": {},
     "output_type": "execute_result"
    }
   ],
   "source": [
    "trainer.train()"
   ]
  },
  {
   "cell_type": "code",
   "execution_count": 23,
   "id": "7ad5ebfd",
   "metadata": {},
   "outputs": [
    {
     "data": {
      "text/html": [
       "\n",
       "    <div>\n",
       "      \n",
       "      <progress value='94' max='94' style='width:300px; height:20px; vertical-align: middle;'></progress>\n",
       "      [94/94 02:28]\n",
       "    </div>\n",
       "    "
      ],
      "text/plain": [
       "<IPython.core.display.HTML object>"
      ]
     },
     "metadata": {},
     "output_type": "display_data"
    },
    {
     "data": {
      "text/plain": [
       "{'eval_loss': 1.3823602199554443,\n",
       " 'eval_runtime': 148.9915,\n",
       " 'eval_samples_per_second': 20.142,\n",
       " 'eval_steps_per_second': 0.631,\n",
       " 'epoch': 3.0}"
      ]
     },
     "execution_count": 23,
     "metadata": {},
     "output_type": "execute_result"
    }
   ],
   "source": [
    "trainer.evaluate()"
   ]
  },
  {
   "cell_type": "code",
   "execution_count": 24,
   "id": "0457ee8c",
   "metadata": {},
   "outputs": [],
   "source": [
    "trainer.save_model()"
   ]
  },
  {
   "cell_type": "code",
   "execution_count": 20,
   "id": "b656986c",
   "metadata": {
    "scrolled": true
   },
   "outputs": [],
   "source": [
    "loaded_model = GPT2LMHeadModel.from_pretrained('./gpt2_multitask')\n",
    "\n",
    "generator = pipeline('text-generation', model=loaded_model, tokenizer=tokenizer)"
   ]
  },
  {
   "cell_type": "code",
   "execution_count": null,
   "id": "33fefe8b",
   "metadata": {},
   "outputs": [],
   "source": []
  },
  {
   "cell_type": "code",
   "execution_count": 21,
   "id": "58e48142",
   "metadata": {},
   "outputs": [
    {
     "name": "stdout",
     "output_type": "stream",
     "text": [
      "I was so excited when I saw the \"skinny\" version of these.  Now I am waiting for them to make skinny lattes!\n",
      "positive\n",
      "Awesome product\n"
     ]
    },
    {
     "data": {
      "text/plain": [
       "29"
      ]
     },
     "execution_count": 21,
     "metadata": {},
     "output_type": "execute_result"
    }
   ],
   "source": [
    "text_sample, score, summary = reviews.sample(1)[['Text', 'Sentiment', 'Summary']].values[0]\n",
    "\n",
    "print(text_sample)\n",
    "print(score)\n",
    "print(summary)\n",
    "\n",
    "num_tokens = len(tokenizer(text_sample)['input_ids'])\n",
    "num_tokens"
   ]
  },
  {
   "cell_type": "code",
   "execution_count": 22,
   "id": "9ecb17d4",
   "metadata": {},
   "outputs": [],
   "source": [
    "sentiment_text_sample = f'{SENTIMENT_PROMPT}\\nReview: {text_sample}{SENTIMENT_TOKEN}'\n",
    "summarize_text_sample = f'{SUMMARIZE_PROMPT}\\nReview: {text_sample}{SUMMARIZE_TOKEN}'"
   ]
  },
  {
   "cell_type": "code",
   "execution_count": 23,
   "id": "a02c3e61",
   "metadata": {},
   "outputs": [
    {
     "name": "stdout",
     "output_type": "stream",
     "text": [
      "Sentiment Task\n",
      "Review: I was so excited when I saw the \"skinny\" version of these.  Now I am waiting for them to make skinny lattes!\n",
      "Sentiment:\n"
     ]
    }
   ],
   "source": [
    "print(sentiment_text_sample)"
   ]
  },
  {
   "cell_type": "code",
   "execution_count": 24,
   "id": "fb5354f6",
   "metadata": {},
   "outputs": [
    {
     "name": "stdout",
     "output_type": "stream",
     "text": [
      "Summarize Task\n",
      "Review: I was so excited when I saw the \"skinny\" version of these.  Now I am waiting for them to make skinny lattes!\n",
      "Summarize:\n"
     ]
    }
   ],
   "source": [
    "print(summarize_text_sample)"
   ]
  },
  {
   "cell_type": "code",
   "execution_count": null,
   "id": "b913bc4c",
   "metadata": {},
   "outputs": [],
   "source": []
  },
  {
   "cell_type": "code",
   "execution_count": 25,
   "id": "687eb473",
   "metadata": {},
   "outputs": [
    {
     "name": "stderr",
     "output_type": "stream",
     "text": [
      "Setting `pad_token_id` to `eos_token_id`:50256 for open-end generation.\n",
      "/home/lucapug/.local/share/virtualenvs/oreilly-gpt-hands-on-nlg-eLFJLio5/lib/python3.9/site-packages/transformers/generation/utils.py:1268: UserWarning: Input length of input_ids is 39, but `max_length` is set to 30. This can lead to unexpected behavior. You should consider increasing `max_new_tokens`.\n",
      "  warnings.warn(\n"
     ]
    },
    {
     "name": "stdout",
     "output_type": "stream",
     "text": [
      "Sentiment Task\n",
      "Review: I was so excited when I saw the \"skinny\" version of these.  Now I am waiting for them to make skinny lattes!\n",
      "Sentiment: neutral\n",
      "----\n",
      "Sentiment Task\n",
      "Review: I was so excited when I saw the \"skinny\" version of these.  Now I am waiting for them to make skinny lattes!\n",
      "Sentiment: neutral\n",
      "----\n",
      "Sentiment Task\n",
      "Review: I was so excited when I saw the \"skinny\" version of these.  Now I am waiting for them to make skinny lattes!\n",
      "Sentiment: negative\n",
      "----\n"
     ]
    }
   ],
   "source": [
    "for generated_text in generator(\n",
    "    sentiment_text_sample, \n",
    "    num_return_sequences=3, \n",
    "    max_length=num_tokens + 1, \n",
    "    temperature=0.2\n",
    "):\n",
    "    print(generated_text['generated_text'])\n",
    "    print('----')"
   ]
  },
  {
   "cell_type": "code",
   "execution_count": 28,
   "id": "73126886",
   "metadata": {},
   "outputs": [
    {
     "name": "stderr",
     "output_type": "stream",
     "text": [
      "Setting `pad_token_id` to `eos_token_id`:50256 for open-end generation.\n"
     ]
    },
    {
     "name": "stdout",
     "output_type": "stream",
     "text": [
      "Summarize Task\n",
      "Review: I was so excited when I saw the \"skinny\" version of these.  Now I am waiting for them to make skinny lattes!\n",
      "Summarize: Not what I expected!  Very disappointed\n",
      "----\n",
      "Summarize Task\n",
      "Review: I was so excited when I saw the \"skinny\" version of these.  Now I am waiting for them to make skinny lattes!\n",
      "Summarize: Not what I expected!  It's\n",
      "----\n",
      "Summarize Task\n",
      "Review: I was so excited when I saw the \"skinny\" version of these.  Now I am waiting for them to make skinny lattes!\n",
      "Summarize: Not what I expected!  Loved\n",
      "----\n"
     ]
    }
   ],
   "source": [
    "for generated_text in generator(\n",
    "    summarize_text_sample, \n",
    "    num_return_sequences=3, \n",
    "    max_length=num_tokens + 20, \n",
    "    temperature=0.7,\n",
    "#    beams=3,\n",
    "    num_beams=3 \n",
    "):\n",
    "    print(generated_text['generated_text'])\n",
    "    print('----')"
   ]
  },
  {
   "cell_type": "code",
   "execution_count": 29,
   "id": "cbeb072b",
   "metadata": {},
   "outputs": [],
   "source": [
    "def process(text):\n",
    "    sentiment_text_sample = f'{SENTIMENT_PROMPT}\\nReview: {text}{SENTIMENT_TOKEN}'\n",
    "    summarize_text_sample = f'{SUMMARIZE_PROMPT}\\nReview: {text}{SUMMARIZE_TOKEN}'\n",
    "    \n",
    "    print('----Summaries----')\n",
    "    num_tokens = len(tokenizer(summarize_text_sample)['input_ids'])\n",
    "    for generated_text in generator(\n",
    "        summarize_text_sample, \n",
    "        num_return_sequences=3,\n",
    "        num_beams=5, \n",
    "        max_length=num_tokens + 10, \n",
    "        temperature=0.7\n",
    "    ):\n",
    "        print(generated_text['generated_text'].split(SUMMARIZE_TOKEN)[1])\n",
    "    print('----Sentiment----')\n",
    "    num_tokens = len(tokenizer(sentiment_text_sample)['input_ids'])\n",
    "    for generated_text in generator(\n",
    "        sentiment_text_sample, \n",
    "        num_return_sequences=1, \n",
    "        max_length=num_tokens + 1, \n",
    "        temperature=0.2\n",
    "    ):\n",
    "        print(generated_text['generated_text'].split(SENTIMENT_TOKEN)[1])"
   ]
  },
  {
   "cell_type": "code",
   "execution_count": 30,
   "id": "70d53fd7",
   "metadata": {},
   "outputs": [
    {
     "name": "stderr",
     "output_type": "stream",
     "text": [
      "Setting `pad_token_id` to `eos_token_id`:50256 for open-end generation.\n"
     ]
    },
    {
     "name": "stdout",
     "output_type": "stream",
     "text": [
      "----Summaries----\n"
     ]
    },
    {
     "name": "stderr",
     "output_type": "stream",
     "text": [
      "Setting `pad_token_id` to `eos_token_id`:50256 for open-end generation.\n"
     ]
    },
    {
     "name": "stdout",
     "output_type": "stream",
     "text": [
      " My dog loves this food! Great price! My\n",
      " My dog loves this food! Great price and great\n",
      " My dog loves this food! Great price and great\n",
      "----Sentiment----\n",
      " positive\n"
     ]
    }
   ],
   "source": [
    "process('I am a big fan of this dog food. Very yummy and my dog loved it too!')"
   ]
  },
  {
   "cell_type": "code",
   "execution_count": 31,
   "id": "ef078449",
   "metadata": {},
   "outputs": [
    {
     "name": "stderr",
     "output_type": "stream",
     "text": [
      "Setting `pad_token_id` to `eos_token_id`:50256 for open-end generation.\n"
     ]
    },
    {
     "name": "stdout",
     "output_type": "stream",
     "text": [
      "----Summaries----\n"
     ]
    },
    {
     "name": "stderr",
     "output_type": "stream",
     "text": [
      "Setting `pad_token_id` to `eos_token_id`:50256 for open-end generation.\n"
     ]
    },
    {
     "name": "stdout",
     "output_type": "stream",
     "text": [
      " Delicious! Addictive! Addictive! Addictive\n",
      " Delicious! Addictive! Addictive! Addict\n",
      " Delicious! Addictive! Addictive! Delicious!\n",
      "----Sentiment----\n",
      " positive\n"
     ]
    }
   ],
   "source": [
    "# a review I saw on ubereats while I was ordering dinner last night\n",
    "process('All kinds of nice flavors and textures to enjoy in their rice bowls, loved it!')"
   ]
  },
  {
   "cell_type": "code",
   "execution_count": null,
   "id": "e4ab9801",
   "metadata": {},
   "outputs": [],
   "source": []
  },
  {
   "cell_type": "code",
   "execution_count": 94,
   "id": "eaa9e656",
   "metadata": {},
   "outputs": [],
   "source": [
    "# Trying with a non-finetuned GPT2 to see the style difference"
   ]
  },
  {
   "cell_type": "code",
   "execution_count": 32,
   "id": "a0452f41",
   "metadata": {
    "scrolled": true
   },
   "outputs": [],
   "source": [
    "non_fintuned_generator = pipeline(\n",
    "    'text-generation', model=GPT2LMHeadModel.from_pretrained('gpt2'), tokenizer=tokenizer\n",
    ")"
   ]
  },
  {
   "cell_type": "code",
   "execution_count": 33,
   "id": "255df2d6",
   "metadata": {
    "scrolled": true
   },
   "outputs": [
    {
     "name": "stderr",
     "output_type": "stream",
     "text": [
      "Setting `pad_token_id` to `eos_token_id`:50256 for open-end generation.\n",
      "/home/lucapug/.local/share/virtualenvs/oreilly-gpt-hands-on-nlg-eLFJLio5/lib/python3.9/site-packages/transformers/generation/utils.py:1268: UserWarning: Input length of input_ids is 39, but `max_length` is set to 30. This can lead to unexpected behavior. You should consider increasing `max_new_tokens`.\n",
      "  warnings.warn(\n"
     ]
    },
    {
     "name": "stdout",
     "output_type": "stream",
     "text": [
      "Sentiment Task\n",
      "Review: I was so excited when I saw the \"skinny\" version of these.  Now I am waiting for them to make skinny lattes!\n",
      "Sentiment: These\n",
      "-------\n",
      "Sentiment Task\n",
      "Review: I was so excited when I saw the \"skinny\" version of these.  Now I am waiting for them to make skinny lattes!\n",
      "Sentiment: The\n",
      "-------\n",
      "Sentiment Task\n",
      "Review: I was so excited when I saw the \"skinny\" version of these.  Now I am waiting for them to make skinny lattes!\n",
      "Sentiment: Oh\n",
      "-------\n",
      "Sentiment Task\n",
      "Review: I was so excited when I saw the \"skinny\" version of these.  Now I am waiting for them to make skinny lattes!\n",
      "Sentiment: I\n",
      "-------\n",
      "Sentiment Task\n",
      "Review: I was so excited when I saw the \"skinny\" version of these.  Now I am waiting for them to make skinny lattes!\n",
      "Sentiment: This\n",
      "-------\n"
     ]
    }
   ],
   "source": [
    "for generated_text in non_fintuned_generator(sentiment_text_sample, num_return_sequences=5, max_length=num_tokens + 1):\n",
    "    print(generated_text['generated_text'])\n",
    "    print('-------')"
   ]
  },
  {
   "cell_type": "code",
   "execution_count": 34,
   "id": "009716c4",
   "metadata": {
    "scrolled": true
   },
   "outputs": [
    {
     "name": "stderr",
     "output_type": "stream",
     "text": [
      "Setting `pad_token_id` to `eos_token_id`:50256 for open-end generation.\n"
     ]
    },
    {
     "name": "stdout",
     "output_type": "stream",
     "text": [
      "Summarize Task\n",
      "Review: I was so excited when I saw the \"skinny\" version of these.  Now I am waiting for them to make skinny lattes!\n",
      "Summarize: These dressers are all about texture and\n",
      "----\n",
      "Summarize Task\n",
      "Review: I was so excited when I saw the \"skinny\" version of these.  Now I am waiting for them to make skinny lattes!\n",
      "Summarize:  I decided I wanted both to\n",
      "----\n",
      "Summarize Task\n",
      "Review: I was so excited when I saw the \"skinny\" version of these.  Now I am waiting for them to make skinny lattes!\n",
      "Summarize:\n",
      "Laying out 2-3 sheets\n",
      "----\n"
     ]
    }
   ],
   "source": [
    "for generated_text in non_fintuned_generator(summarize_text_sample, num_return_sequences=3, max_length=num_tokens + 20):\n",
    "    print(generated_text['generated_text'])\n",
    "    print('----')"
   ]
  },
  {
   "cell_type": "code",
   "execution_count": 35,
   "id": "7e3316a1",
   "metadata": {},
   "outputs": [
    {
     "name": "stderr",
     "output_type": "stream",
     "text": [
      "Setting `pad_token_id` to `eos_token_id`:50256 for open-end generation.\n"
     ]
    },
    {
     "name": "stdout",
     "output_type": "stream",
     "text": [
      "Summarization Task\n",
      "I was so excited when I saw the \"skinny\" version of these.  Now I am waiting for them to make skinny lattes!\n",
      "TL;DR:\n",
      "– Make your own.\n",
      "– Enjoy your\n",
      "----\n",
      "Summarization Task\n",
      "I was so excited when I saw the \"skinny\" version of these.  Now I am waiting for them to make skinny lattes!\n",
      "TL;DR:\n",
      "The next step is to prepare each skin as\n",
      "----\n",
      "Summarization Task\n",
      "I was so excited when I saw the \"skinny\" version of these.  Now I am waiting for them to make skinny lattes!\n",
      "TL;DR: I love the thin lattes which make these very\n",
      "----\n"
     ]
    }
   ],
   "source": [
    "for generated_text in non_fintuned_generator(f'Summarization Task\\n{text_sample}\\nTL;DR:', num_return_sequences=3, max_length=num_tokens + 20):\n",
    "    print(generated_text['generated_text'])\n",
    "    print('----')"
   ]
  },
  {
   "cell_type": "code",
   "execution_count": null,
   "id": "0f84b44e",
   "metadata": {},
   "outputs": [],
   "source": []
  },
  {
   "cell_type": "code",
   "execution_count": null,
   "id": "5be8f799",
   "metadata": {},
   "outputs": [],
   "source": []
  }
 ],
 "metadata": {
  "kernelspec": {
   "display_name": "Python 3 (ipykernel)",
   "language": "python",
   "name": "python3"
  },
  "language_info": {
   "codemirror_mode": {
    "name": "ipython",
    "version": 3
   },
   "file_extension": ".py",
   "mimetype": "text/x-python",
   "name": "python",
   "nbconvert_exporter": "python",
   "pygments_lexer": "ipython3",
   "version": "3.9.16"
  }
 },
 "nbformat": 4,
 "nbformat_minor": 5
}
